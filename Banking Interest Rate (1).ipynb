{
 "cells": [
  {
   "cell_type": "code",
   "execution_count": 1,
   "metadata": {
    "id": "f0LoIVEn7rKG"
   },
   "outputs": [],
   "source": [
    "import numpy as np\n",
    "import pandas as pd"
   ]
  },
  {
   "cell_type": "code",
   "execution_count": 3,
   "metadata": {
    "id": "KVMMDGOa7839"
   },
   "outputs": [
    {
     "data": {
      "text/html": [
       "<div>\n",
       "<style scoped>\n",
       "    .dataframe tbody tr th:only-of-type {\n",
       "        vertical-align: middle;\n",
       "    }\n",
       "\n",
       "    .dataframe tbody tr th {\n",
       "        vertical-align: top;\n",
       "    }\n",
       "\n",
       "    .dataframe thead th {\n",
       "        text-align: right;\n",
       "    }\n",
       "</style>\n",
       "<table border=\"1\" class=\"dataframe\">\n",
       "  <thead>\n",
       "    <tr style=\"text-align: right;\">\n",
       "      <th></th>\n",
       "      <th>Loan_ID</th>\n",
       "      <th>Loan_Amount_Requested</th>\n",
       "      <th>Length_Employed</th>\n",
       "      <th>Home_Owner</th>\n",
       "      <th>Annual_Income</th>\n",
       "      <th>Income_Verified</th>\n",
       "      <th>Purpose_Of_Loan</th>\n",
       "      <th>Debt_To_Income</th>\n",
       "      <th>Inquiries_Last_6Mo</th>\n",
       "      <th>Months_Since_Deliquency</th>\n",
       "      <th>Number_Open_Accounts</th>\n",
       "      <th>Total_Accounts</th>\n",
       "      <th>Gender</th>\n",
       "      <th>Interest_Rate</th>\n",
       "    </tr>\n",
       "  </thead>\n",
       "  <tbody>\n",
       "    <tr>\n",
       "      <th>0</th>\n",
       "      <td>10000001</td>\n",
       "      <td>7,000</td>\n",
       "      <td>&lt; 1 year</td>\n",
       "      <td>Rent</td>\n",
       "      <td>68000.0</td>\n",
       "      <td>not verified</td>\n",
       "      <td>car</td>\n",
       "      <td>18.37</td>\n",
       "      <td>0</td>\n",
       "      <td>NaN</td>\n",
       "      <td>9</td>\n",
       "      <td>14</td>\n",
       "      <td>Female</td>\n",
       "      <td>1</td>\n",
       "    </tr>\n",
       "    <tr>\n",
       "      <th>1</th>\n",
       "      <td>10000002</td>\n",
       "      <td>30,000</td>\n",
       "      <td>4 years</td>\n",
       "      <td>Mortgage</td>\n",
       "      <td>NaN</td>\n",
       "      <td>VERIFIED - income</td>\n",
       "      <td>debt_consolidation</td>\n",
       "      <td>14.93</td>\n",
       "      <td>0</td>\n",
       "      <td>17.0</td>\n",
       "      <td>12</td>\n",
       "      <td>24</td>\n",
       "      <td>Female</td>\n",
       "      <td>3</td>\n",
       "    </tr>\n",
       "    <tr>\n",
       "      <th>2</th>\n",
       "      <td>10000003</td>\n",
       "      <td>24,725</td>\n",
       "      <td>7 years</td>\n",
       "      <td>Mortgage</td>\n",
       "      <td>75566.4</td>\n",
       "      <td>VERIFIED - income source</td>\n",
       "      <td>debt_consolidation</td>\n",
       "      <td>15.88</td>\n",
       "      <td>0</td>\n",
       "      <td>NaN</td>\n",
       "      <td>12</td>\n",
       "      <td>16</td>\n",
       "      <td>Male</td>\n",
       "      <td>3</td>\n",
       "    </tr>\n",
       "    <tr>\n",
       "      <th>3</th>\n",
       "      <td>10000004</td>\n",
       "      <td>16,000</td>\n",
       "      <td>&lt; 1 year</td>\n",
       "      <td>NaN</td>\n",
       "      <td>56160.0</td>\n",
       "      <td>VERIFIED - income source</td>\n",
       "      <td>debt_consolidation</td>\n",
       "      <td>14.34</td>\n",
       "      <td>3</td>\n",
       "      <td>NaN</td>\n",
       "      <td>16</td>\n",
       "      <td>22</td>\n",
       "      <td>Male</td>\n",
       "      <td>3</td>\n",
       "    </tr>\n",
       "    <tr>\n",
       "      <th>4</th>\n",
       "      <td>10000005</td>\n",
       "      <td>17,000</td>\n",
       "      <td>8 years</td>\n",
       "      <td>Own</td>\n",
       "      <td>96000.0</td>\n",
       "      <td>VERIFIED - income source</td>\n",
       "      <td>debt_consolidation</td>\n",
       "      <td>22.17</td>\n",
       "      <td>1</td>\n",
       "      <td>NaN</td>\n",
       "      <td>19</td>\n",
       "      <td>30</td>\n",
       "      <td>Female</td>\n",
       "      <td>1</td>\n",
       "    </tr>\n",
       "  </tbody>\n",
       "</table>\n",
       "</div>"
      ],
      "text/plain": [
       "    Loan_ID Loan_Amount_Requested Length_Employed Home_Owner  Annual_Income  \\\n",
       "0  10000001                 7,000        < 1 year       Rent        68000.0   \n",
       "1  10000002                30,000         4 years   Mortgage            NaN   \n",
       "2  10000003                24,725         7 years   Mortgage        75566.4   \n",
       "3  10000004                16,000        < 1 year        NaN        56160.0   \n",
       "4  10000005                17,000         8 years        Own        96000.0   \n",
       "\n",
       "            Income_Verified     Purpose_Of_Loan  Debt_To_Income  \\\n",
       "0              not verified                 car           18.37   \n",
       "1         VERIFIED - income  debt_consolidation           14.93   \n",
       "2  VERIFIED - income source  debt_consolidation           15.88   \n",
       "3  VERIFIED - income source  debt_consolidation           14.34   \n",
       "4  VERIFIED - income source  debt_consolidation           22.17   \n",
       "\n",
       "   Inquiries_Last_6Mo  Months_Since_Deliquency  Number_Open_Accounts  \\\n",
       "0                   0                      NaN                     9   \n",
       "1                   0                     17.0                    12   \n",
       "2                   0                      NaN                    12   \n",
       "3                   3                      NaN                    16   \n",
       "4                   1                      NaN                    19   \n",
       "\n",
       "   Total_Accounts  Gender  Interest_Rate  \n",
       "0              14  Female              1  \n",
       "1              24  Female              3  \n",
       "2              16    Male              3  \n",
       "3              22    Male              3  \n",
       "4              30  Female              1  "
      ]
     },
     "execution_count": 3,
     "metadata": {},
     "output_type": "execute_result"
    }
   ],
   "source": [
    "df = pd.read_csv('Banking.csv')\n",
    "df.head()"
   ]
  },
  {
   "cell_type": "code",
   "execution_count": 4,
   "metadata": {
    "id": "aC68Nhzm97S0"
   },
   "outputs": [
    {
     "data": {
      "text/plain": [
       "(164309, 14)"
      ]
     },
     "execution_count": 4,
     "metadata": {},
     "output_type": "execute_result"
    }
   ],
   "source": [
    "df.shape"
   ]
  },
  {
   "cell_type": "code",
   "execution_count": 5,
   "metadata": {
    "id": "dyWRKLz9AnkT"
   },
   "outputs": [
    {
     "name": "stdout",
     "output_type": "stream",
     "text": [
      "<class 'pandas.core.frame.DataFrame'>\n",
      "RangeIndex: 164309 entries, 0 to 164308\n",
      "Data columns (total 14 columns):\n",
      " #   Column                   Non-Null Count   Dtype  \n",
      "---  ------                   --------------   -----  \n",
      " 0   Loan_ID                  164309 non-null  int64  \n",
      " 1   Loan_Amount_Requested    164309 non-null  object \n",
      " 2   Length_Employed          156938 non-null  object \n",
      " 3   Home_Owner               138960 non-null  object \n",
      " 4   Annual_Income            139207 non-null  float64\n",
      " 5   Income_Verified          164309 non-null  object \n",
      " 6   Purpose_Of_Loan          164309 non-null  object \n",
      " 7   Debt_To_Income           164309 non-null  float64\n",
      " 8   Inquiries_Last_6Mo       164309 non-null  int64  \n",
      " 9   Months_Since_Deliquency  75930 non-null   float64\n",
      " 10  Number_Open_Accounts     164309 non-null  int64  \n",
      " 11  Total_Accounts           164309 non-null  int64  \n",
      " 12  Gender                   164309 non-null  object \n",
      " 13  Interest_Rate            164309 non-null  int64  \n",
      "dtypes: float64(3), int64(5), object(6)\n",
      "memory usage: 17.6+ MB\n"
     ]
    }
   ],
   "source": [
    "df.info()"
   ]
  },
  {
   "cell_type": "markdown",
   "metadata": {
    "id": "H3ZIlbmxZk7x"
   },
   "source": [
    "From the above information, we notice that **Loan_Amount_Requested** is in incorrect type, I will be replcing comma to dot in that column and converting to float64 type"
   ]
  },
  {
   "cell_type": "code",
   "execution_count": 6,
   "metadata": {
    "id": "4ERpAJy9ZXgR"
   },
   "outputs": [],
   "source": [
    " df['Loan_Amount_Requested']= df['Loan_Amount_Requested'].str.replace(',','.')"
   ]
  },
  {
   "cell_type": "code",
   "execution_count": 7,
   "metadata": {
    "id": "t0pH-rKBUDEx"
   },
   "outputs": [],
   "source": [
    "df['Loan_Amount_Requested'] = df['Loan_Amount_Requested'].astype(np.float64)"
   ]
  },
  {
   "cell_type": "code",
   "execution_count": 8,
   "metadata": {
    "id": "v4uTs95b9YNm"
   },
   "outputs": [
    {
     "data": {
      "text/plain": [
       "2    70580\n",
       "3    59923\n",
       "1    33806\n",
       "Name: Interest_Rate, dtype: int64"
      ]
     },
     "execution_count": 8,
     "metadata": {},
     "output_type": "execute_result"
    }
   ],
   "source": [
    "# we use value_counts() to display how many instances are present in the\n",
    "# categorical feature/class variable\n",
    "df['Interest_Rate'].value_counts()"
   ]
  },
  {
   "cell_type": "markdown",
   "metadata": {
    "id": "8T2cGpc49om3"
   },
   "source": [
    "### **Preprocessing Data**\n",
    "\n",
    "Preprocessing data includes handling missing values and outliers, applying feature coding techniques if needed, scale & standardize features.\n",
    "\n"
   ]
  },
  {
   "cell_type": "markdown",
   "metadata": {
    "id": "AWxRYuJn9wcc"
   },
   "source": [
    "**Checking for Missing values**"
   ]
  },
  {
   "cell_type": "code",
   "execution_count": 9,
   "metadata": {
    "id": "ik1jwDlQ9v9E"
   },
   "outputs": [
    {
     "data": {
      "text/plain": [
       "Loan_ID                        0\n",
       "Loan_Amount_Requested          0\n",
       "Length_Employed             7371\n",
       "Home_Owner                 25349\n",
       "Annual_Income              25102\n",
       "Income_Verified                0\n",
       "Purpose_Of_Loan                0\n",
       "Debt_To_Income                 0\n",
       "Inquiries_Last_6Mo             0\n",
       "Months_Since_Deliquency    88379\n",
       "Number_Open_Accounts           0\n",
       "Total_Accounts                 0\n",
       "Gender                         0\n",
       "Interest_Rate                  0\n",
       "dtype: int64"
      ]
     },
     "execution_count": 9,
     "metadata": {},
     "output_type": "execute_result"
    }
   ],
   "source": [
    "# isnull() method can be used to check each cell in the dataset\n",
    "df.isnull().sum()"
   ]
  },
  {
   "cell_type": "markdown",
   "metadata": {
    "id": "DIG1wu21Aasr"
   },
   "source": [
    "**Handling Outliers**\n",
    "\n",
    "We check for outliers only in the features that contain numerical values."
   ]
  },
  {
   "cell_type": "code",
   "execution_count": 10,
   "metadata": {
    "id": "KFfJERMVBNo7"
   },
   "outputs": [],
   "source": [
    "import matplotlib.pyplot as plt\n",
    "import seaborn as sns\n",
    "import warnings\n",
    "warnings.filterwarnings(\"ignore\")"
   ]
  },
  {
   "cell_type": "markdown",
   "metadata": {
    "id": "OItoTWqXBWTv"
   },
   "source": [
    "1. Checking the **'Annual_Income'** feature for outliers"
   ]
  },
  {
   "cell_type": "code",
   "execution_count": 11,
   "metadata": {
    "id": "oNeQ7Np0BeSq"
   },
   "outputs": [
    {
     "name": "stdout",
     "output_type": "stream",
     "text": [
      "Annual_Income Shape: (164309, 14)\n"
     ]
    },
    {
     "data": {
      "image/png": "[encoded data removed]",
      "text/plain": [
       "<Figure size 900x600 with 1 Axes>"
      ]
     },
     "metadata": {},
     "output_type": "display_data"
    }
   ],
   "source": [
    "fig, axes = plt.subplots(figsize=(9, 6))\n",
    "\n",
    "# Checking the box plot for age feature\n",
    "print(\"Annual_Income Shape:\",df.shape)\n",
    "## Max and Min Quantile\n",
    "max_val = df['Annual_Income'].quantile(0.75)\n",
    "min_val = df['Annual_Income'].quantile(0.25)\n",
    "\n",
    "sns.boxplot(df['Annual_Income'])\n",
    "plt.show()"
   ]
  },
  {
   "cell_type": "markdown",
   "metadata": {
    "id": "4iOZw6ugGxlu"
   },
   "source": [
    "When checking the boxplot for **Annual_Income** feature, we can see that the values has started breaking from a point around 2x1e6. Therefore I will be removing the outliers after $incomes=2 \\times 1e6$"
   ]
  },
  {
   "cell_type": "code",
   "execution_count": 12,
   "metadata": {
    "id": "l3dlq2NwHgob"
   },
   "outputs": [
    {
     "name": "stdout",
     "output_type": "stream",
     "text": [
      "After Annual_Income Shape: (139200, 14)\n"
     ]
    },
    {
     "data": {
      "image/png": "[encoded data removed]",
      "text/plain": [
       "<Figure size 640x480 with 1 Axes>"
      ]
     },
     "metadata": {},
     "output_type": "display_data"
    }
   ],
   "source": [
    "# removing datapoints that have income values greater than 2 x 1e6\n",
    "df = df[(df['Annual_Income']< 2e6)]\n",
    "\n",
    "print(\"After Annual_Income Shape:\",df.shape)\n",
    "\n",
    "sns.boxplot(df['Annual_Income'])\n",
    "plt.show()"
   ]
  },
  {
   "cell_type": "markdown",
   "metadata": {
    "id": "QE4174blEMuc"
   },
   "source": [
    "2. Checking the **'Debt_To_Income'** feature for outliers"
   ]
  },
  {
   "cell_type": "code",
   "execution_count": 13,
   "metadata": {
    "id": "K7VT9P2gEfCZ"
   },
   "outputs": [
    {
     "name": "stdout",
     "output_type": "stream",
     "text": [
      "Debt_To_Income Shape: (139200, 14)\n"
     ]
    },
    {
     "data": {
      "image/png": "[encoded data removed]",
      "text/plain": [
       "<Figure size 900x600 with 1 Axes>"
      ]
     },
     "metadata": {},
     "output_type": "display_data"
    }
   ],
   "source": [
    "fig, axes = plt.subplots(figsize=(9, 6))\n",
    "\n",
    "# Checking the box plot for age feature\n",
    "print(\"Debt_To_Income Shape:\",df.shape)\n",
    "## Max and Min Quantile\n",
    "max_val = df['Debt_To_Income'].quantile(0.75)\n",
    "min_val = df['Debt_To_Income'].quantile(0.25)\n",
    "\n",
    "sns.boxplot(df['Debt_To_Income'])\n",
    "plt.show()"
   ]
  },
  {
   "cell_type": "markdown",
   "metadata": {
    "id": "SKRJlN8wIBV2"
   },
   "source": [
    "There are no outliers in the **Debt_to_income** feature."
   ]
  },
  {
   "cell_type": "markdown",
   "metadata": {
    "id": "EU-USXqVE00g"
   },
   "source": [
    "3. Checking the **'Inquiries_Last_6Mo'** feature for outliers"
   ]
  },
  {
   "cell_type": "code",
   "execution_count": 14,
   "metadata": {
    "id": "iqGz40SjE6bE"
   },
   "outputs": [
    {
     "name": "stdout",
     "output_type": "stream",
     "text": [
      "Inquiries_Last_6Mo Shape: (139200, 14)\n"
     ]
    },
    {
     "data": {
      "image/png": "[encoded data removed]",
      "text/plain": [
       "<Figure size 900x600 with 1 Axes>"
      ]
     },
     "metadata": {},
     "output_type": "display_data"
    }
   ],
   "source": [
    "fig, axes = plt.subplots(figsize=(9, 6))\n",
    "\n",
    "# Checking the box plot for age feature\n",
    "print(\"Inquiries_Last_6Mo Shape:\",df.shape)\n",
    "## Max and Min Quantile\n",
    "max_val = df['Inquiries_Last_6Mo'].quantile(0.75)\n",
    "min_val = df['Inquiries_Last_6Mo'].quantile(0.25)\n",
    "\n",
    "sns.boxplot(df['Inquiries_Last_6Mo'])\n",
    "plt.show()"
   ]
  },
  {
   "cell_type": "markdown",
   "metadata": {
    "id": "bZagOWqPIjRA"
   },
   "source": [
    "When checking the boxplot for the **'Inquiries_Last_6Mo'** feature, we can see that there are no significant outliers, and that there are many datapoints that are outside the boxplot. Therefore, I will not be removing the datapoints that are identified here as outliers, since they can carry information in them."
   ]
  },
  {
   "cell_type": "markdown",
   "metadata": {
    "id": "nDv5HAhhFLhg"
   },
   "source": [
    "4. Checking the **'Months_Since_Deliquency'** feature for outliers"
   ]
  },
  {
   "cell_type": "code",
   "execution_count": 15,
   "metadata": {
    "id": "bd8oC6P_FTm8"
   },
   "outputs": [
    {
     "name": "stdout",
     "output_type": "stream",
     "text": [
      "Months_Since_Deliquency Shape: (139200, 14)\n"
     ]
    },
    {
     "data": {
      "image/png": "[encoded data removed]",
      "text/plain": [
       "<Figure size 900x600 with 1 Axes>"
      ]
     },
     "metadata": {},
     "output_type": "display_data"
    }
   ],
   "source": [
    "fig, axes = plt.subplots(figsize=(9, 6))\n",
    "\n",
    "# Checking the box plot for age feature\n",
    "print(\"Months_Since_Deliquency Shape:\",df.shape)\n",
    "## Max and Min Quantile\n",
    "max_val = df['Months_Since_Deliquency'].quantile(0.75)\n",
    "min_val = df['Months_Since_Deliquency'].quantile(0.25)\n",
    "\n",
    "sns.boxplot(df['Months_Since_Deliquency'])\n",
    "plt.show()"
   ]
  },
  {
   "cell_type": "markdown",
   "metadata": {
    "id": "u26_0eT4JT9Z"
   },
   "source": [
    "When checking the boxplot for the **'Months_Since_Deliquency'** feature, we can see that there are no significant outliers, and that there are many datapoints that are outside the boxplot. Therefore, I will not be removing the datapoints that are identified here as outliers, since they can carry information in them."
   ]
  },
  {
   "cell_type": "markdown",
   "metadata": {
    "id": "TWOwjDjAFh0w"
   },
   "source": [
    "5. Checking the **'Number_Open_Accounts'** feature for outliers  "
   ]
  },
  {
   "cell_type": "code",
   "execution_count": 16,
   "metadata": {
    "id": "1EUiXDqnFnKQ"
   },
   "outputs": [
    {
     "name": "stdout",
     "output_type": "stream",
     "text": [
      "Number_Open_Accounts Shape: (139200, 14)\n"
     ]
    },
    {
     "data": {
      "image/png": "[encoded data removed]",
      "text/plain": [
       "<Figure size 900x600 with 1 Axes>"
      ]
     },
     "metadata": {},
     "output_type": "display_data"
    }
   ],
   "source": [
    "fig, axes = plt.subplots(figsize=(9, 6))\n",
    "\n",
    "# Checking the box plot for age feature\n",
    "print(\"Number_Open_Accounts Shape:\",df.shape)\n",
    "## Max and Min Quantile\n",
    "max_val = df['Number_Open_Accounts'].quantile(0.75)\n",
    "min_val = df['Number_Open_Accounts'].quantile(0.25)\n",
    "\n",
    "sns.boxplot(df['Number_Open_Accounts'])\n",
    "plt.show()"
   ]
  },
  {
   "cell_type": "markdown",
   "metadata": {
    "id": "dMmYzX2-Jlyj"
   },
   "source": [
    "When checking the above box plot, we can see that, there a significant gap has first occured around the number accounts value 58. Therefore I decided to clear the datapoints after number accounts 58 as handling outliers in this feature."
   ]
  },
  {
   "cell_type": "code",
   "execution_count": 17,
   "metadata": {
    "id": "IHKFimAUJ198"
   },
   "outputs": [
    {
     "name": "stdout",
     "output_type": "stream",
     "text": [
      "After Number_Open_Accounts Shape: (139195, 14)\n"
     ]
    },
    {
     "data": {
      "image/png": "[encoded data removed]",
      "text/plain": [
       "<Figure size 640x480 with 1 Axes>"
      ]
     },
     "metadata": {},
     "output_type": "display_data"
    }
   ],
   "source": [
    "# removing datapoints that have number open accounts greater than 58\n",
    "df = df[(df['Number_Open_Accounts']<58)]\n",
    "\n",
    "print(\"After Number_Open_Accounts Shape:\",df.shape)\n",
    "\n",
    "sns.boxplot(df['Number_Open_Accounts'])\n",
    "plt.show()"
   ]
  },
  {
   "cell_type": "markdown",
   "metadata": {
    "id": "YqsFV4KjGErt"
   },
   "source": [
    "6. Checking the **'Total_Accounts'** feature for outliers   "
   ]
  },
  {
   "cell_type": "code",
   "execution_count": 18,
   "metadata": {
    "id": "5XpOfyRSFyKJ"
   },
   "outputs": [
    {
     "name": "stdout",
     "output_type": "stream",
     "text": [
      "Total_Accounts Shape: (139195, 14)\n"
     ]
    },
    {
     "data": {
      "image/png": "[encoded data removed]",
      "text/plain": [
       "<Figure size 900x600 with 1 Axes>"
      ]
     },
     "metadata": {},
     "output_type": "display_data"
    }
   ],
   "source": [
    "fig, axes = plt.subplots(figsize=(9, 6))\n",
    "\n",
    "# Checking the box plot for age feature\n",
    "print(\"Total_Accounts Shape:\",df.shape)\n",
    "## Max and Min Quantile\n",
    "max_val = df['Total_Accounts'].quantile(0.75)\n",
    "min_val = df['Total_Accounts'].quantile(0.25)\n",
    "\n",
    "sns.boxplot(df['Total_Accounts'])\n",
    "plt.show()"
   ]
  },
  {
   "cell_type": "markdown",
   "metadata": {
    "id": "BNPbbrtwQf8e"
   },
   "source": [
    "When checking the above box plot, we can see that, there a significant gap has first occured around the total accounts value 120. Therefore I decided to clear the datapoints after total accounts 120 as handling outliers in this feature"
   ]
  },
  {
   "cell_type": "code",
   "execution_count": 19,
   "metadata": {
    "id": "KD2ljO_RQxCc"
   },
   "outputs": [
    {
     "name": "stdout",
     "output_type": "stream",
     "text": [
      "After Total_Accounts shape: (139194, 14)\n"
     ]
    },
    {
     "data": {
      "image/png": "[encoded data removed]",
      "text/plain": [
       "<Figure size 640x480 with 1 Axes>"
      ]
     },
     "metadata": {},
     "output_type": "display_data"
    }
   ],
   "source": [
    "# removing datapoints that have total accounts greater than 120\n",
    "df = df[(df['Total_Accounts']<120)]\n",
    "\n",
    "print(\"After Total_Accounts shape:\",df.shape)\n",
    "\n",
    "sns.boxplot(df['Total_Accounts'])\n",
    "plt.show()"
   ]
  },
  {
   "cell_type": "markdown",
   "metadata": {
    "id": "a8zj7OC0atnZ"
   },
   "source": [
    "7. Checking the **'Loan_Amount_Requested'** feature for outliers"
   ]
  },
  {
   "cell_type": "code",
   "execution_count": 20,
   "metadata": {
    "id": "wqHUfsv-aDrj"
   },
   "outputs": [
    {
     "name": "stdout",
     "output_type": "stream",
     "text": [
      "Loan_Amount_Requested Shape: (139194, 14)\n"
     ]
    },
    {
     "data": {
      "image/png": "[encoded data removed]",
      "text/plain": [
       "<Figure size 900x600 with 1 Axes>"
      ]
     },
     "metadata": {},
     "output_type": "display_data"
    }
   ],
   "source": [
    "fig, axes = plt.subplots(figsize=(9, 6))\n",
    "\n",
    "# Checking the box plot for age feature\n",
    "print(\"Loan_Amount_Requested Shape:\",df.shape)\n",
    "## Max and Min Quantile\n",
    "max_val = df['Loan_Amount_Requested'].quantile(0.75)\n",
    "min_val = df['Loan_Amount_Requested'].quantile(0.25)\n",
    "\n",
    "sns.boxplot(df['Loan_Amount_Requested'])\n",
    "plt.show()"
   ]
  },
  {
   "cell_type": "code",
   "execution_count": 21,
   "metadata": {
    "id": "tmTkppMPaN5k"
   },
   "outputs": [
    {
     "name": "stdout",
     "output_type": "stream",
     "text": [
      "After Loan_Amount_Requested Shape: (139186, 14)\n"
     ]
    },
    {
     "data": {
      "image/png": "[encoded data removed]",
      "text/plain": [
       "<Figure size 640x480 with 1 Axes>"
      ]
     },
     "metadata": {},
     "output_type": "display_data"
    }
   ],
   "source": [
    "# removing datapoints that have income values greater than 50\n",
    "df = df[(df['Loan_Amount_Requested']< 50)]\n",
    "\n",
    "print(\"After Loan_Amount_Requested Shape:\",df.shape)\n",
    "\n",
    "sns.boxplot(df['Loan_Amount_Requested'])\n",
    "plt.show()"
   ]
  },
  {
   "cell_type": "markdown",
   "metadata": {
    "id": "CQqSDXouSsIb"
   },
   "source": [
    "Now, after carefully inspection of all the numerical fields (features) in the dataset, I have removed outliers and the remaining number datapoints is 139186. Therefore I have removed $164309 - 139186 = 25123$ outliers."
   ]
  },
  {
   "cell_type": "markdown",
   "metadata": {
    "id": "pjWdG5aZTRUb"
   },
   "source": [
    "**Feature Encoding**\n",
    "\n",
    "In this process, the categorical data are encoded into numerical data. The LabelEncoder is used to encode the class values to integers accordingly as follows.\n",
    "\n"
   ]
  },
  {
   "cell_type": "code",
   "execution_count": 22,
   "metadata": {
    "id": "tpIued0gk2a9"
   },
   "outputs": [
    {
     "data": {
      "text/html": [
       "<div>\n",
       "<style scoped>\n",
       "    .dataframe tbody tr th:only-of-type {\n",
       "        vertical-align: middle;\n",
       "    }\n",
       "\n",
       "    .dataframe tbody tr th {\n",
       "        vertical-align: top;\n",
       "    }\n",
       "\n",
       "    .dataframe thead th {\n",
       "        text-align: right;\n",
       "    }\n",
       "</style>\n",
       "<table border=\"1\" class=\"dataframe\">\n",
       "  <thead>\n",
       "    <tr style=\"text-align: right;\">\n",
       "      <th></th>\n",
       "      <th>Loan_ID</th>\n",
       "      <th>Loan_Amount_Requested</th>\n",
       "      <th>Length_Employed</th>\n",
       "      <th>Home_Owner</th>\n",
       "      <th>Annual_Income</th>\n",
       "      <th>Income_Verified</th>\n",
       "      <th>Purpose_Of_Loan</th>\n",
       "      <th>Debt_To_Income</th>\n",
       "      <th>Inquiries_Last_6Mo</th>\n",
       "      <th>Months_Since_Deliquency</th>\n",
       "      <th>Number_Open_Accounts</th>\n",
       "      <th>Total_Accounts</th>\n",
       "      <th>Gender</th>\n",
       "      <th>Interest_Rate</th>\n",
       "    </tr>\n",
       "  </thead>\n",
       "  <tbody>\n",
       "    <tr>\n",
       "      <th>0</th>\n",
       "      <td>10000001</td>\n",
       "      <td>7.000</td>\n",
       "      <td>&lt; 1 year</td>\n",
       "      <td>Rent</td>\n",
       "      <td>68000.0</td>\n",
       "      <td>not verified</td>\n",
       "      <td>car</td>\n",
       "      <td>18.37</td>\n",
       "      <td>0</td>\n",
       "      <td>NaN</td>\n",
       "      <td>9</td>\n",
       "      <td>14</td>\n",
       "      <td>Female</td>\n",
       "      <td>1</td>\n",
       "    </tr>\n",
       "    <tr>\n",
       "      <th>2</th>\n",
       "      <td>10000003</td>\n",
       "      <td>24.725</td>\n",
       "      <td>7 years</td>\n",
       "      <td>Mortgage</td>\n",
       "      <td>75566.4</td>\n",
       "      <td>VERIFIED - income source</td>\n",
       "      <td>debt_consolidation</td>\n",
       "      <td>15.88</td>\n",
       "      <td>0</td>\n",
       "      <td>NaN</td>\n",
       "      <td>12</td>\n",
       "      <td>16</td>\n",
       "      <td>Male</td>\n",
       "      <td>3</td>\n",
       "    </tr>\n",
       "    <tr>\n",
       "      <th>3</th>\n",
       "      <td>10000004</td>\n",
       "      <td>16.000</td>\n",
       "      <td>&lt; 1 year</td>\n",
       "      <td>NaN</td>\n",
       "      <td>56160.0</td>\n",
       "      <td>VERIFIED - income source</td>\n",
       "      <td>debt_consolidation</td>\n",
       "      <td>14.34</td>\n",
       "      <td>3</td>\n",
       "      <td>NaN</td>\n",
       "      <td>16</td>\n",
       "      <td>22</td>\n",
       "      <td>Male</td>\n",
       "      <td>3</td>\n",
       "    </tr>\n",
       "    <tr>\n",
       "      <th>4</th>\n",
       "      <td>10000005</td>\n",
       "      <td>17.000</td>\n",
       "      <td>8 years</td>\n",
       "      <td>Own</td>\n",
       "      <td>96000.0</td>\n",
       "      <td>VERIFIED - income source</td>\n",
       "      <td>debt_consolidation</td>\n",
       "      <td>22.17</td>\n",
       "      <td>1</td>\n",
       "      <td>NaN</td>\n",
       "      <td>19</td>\n",
       "      <td>30</td>\n",
       "      <td>Female</td>\n",
       "      <td>1</td>\n",
       "    </tr>\n",
       "    <tr>\n",
       "      <th>5</th>\n",
       "      <td>10000006</td>\n",
       "      <td>4.500</td>\n",
       "      <td>2 years</td>\n",
       "      <td>Rent</td>\n",
       "      <td>30000.0</td>\n",
       "      <td>VERIFIED - income source</td>\n",
       "      <td>credit_card</td>\n",
       "      <td>10.88</td>\n",
       "      <td>1</td>\n",
       "      <td>NaN</td>\n",
       "      <td>12</td>\n",
       "      <td>15</td>\n",
       "      <td>Male</td>\n",
       "      <td>3</td>\n",
       "    </tr>\n",
       "  </tbody>\n",
       "</table>\n",
       "</div>"
      ],
      "text/plain": [
       "    Loan_ID  Loan_Amount_Requested Length_Employed Home_Owner  Annual_Income  \\\n",
       "0  10000001                  7.000        < 1 year       Rent        68000.0   \n",
       "2  10000003                 24.725         7 years   Mortgage        75566.4   \n",
       "3  10000004                 16.000        < 1 year        NaN        56160.0   \n",
       "4  10000005                 17.000         8 years        Own        96000.0   \n",
       "5  10000006                  4.500         2 years       Rent        30000.0   \n",
       "\n",
       "            Income_Verified     Purpose_Of_Loan  Debt_To_Income  \\\n",
       "0              not verified                 car           18.37   \n",
       "2  VERIFIED - income source  debt_consolidation           15.88   \n",
       "3  VERIFIED - income source  debt_consolidation           14.34   \n",
       "4  VERIFIED - income source  debt_consolidation           22.17   \n",
       "5  VERIFIED - income source         credit_card           10.88   \n",
       "\n",
       "   Inquiries_Last_6Mo  Months_Since_Deliquency  Number_Open_Accounts  \\\n",
       "0                   0                      NaN                     9   \n",
       "2                   0                      NaN                    12   \n",
       "3                   3                      NaN                    16   \n",
       "4                   1                      NaN                    19   \n",
       "5                   1                      NaN                    12   \n",
       "\n",
       "   Total_Accounts  Gender  Interest_Rate  \n",
       "0              14  Female              1  \n",
       "2              16    Male              3  \n",
       "3              22    Male              3  \n",
       "4              30  Female              1  \n",
       "5              15    Male              3  "
      ]
     },
     "execution_count": 22,
     "metadata": {},
     "output_type": "execute_result"
    }
   ],
   "source": [
    "df.head()"
   ]
  },
  {
   "cell_type": "code",
   "execution_count": 23,
   "metadata": {
    "id": "8egFka-SnDU-"
   },
   "outputs": [
    {
     "data": {
      "text/plain": [
       "Loan_ID                        0\n",
       "Loan_Amount_Requested          0\n",
       "Length_Employed             6247\n",
       "Home_Owner                 21434\n",
       "Annual_Income                  0\n",
       "Income_Verified                0\n",
       "Purpose_Of_Loan                0\n",
       "Debt_To_Income                 0\n",
       "Inquiries_Last_6Mo             0\n",
       "Months_Since_Deliquency    74855\n",
       "Number_Open_Accounts           0\n",
       "Total_Accounts                 0\n",
       "Gender                         0\n",
       "Interest_Rate                  0\n",
       "dtype: int64"
      ]
     },
     "execution_count": 23,
     "metadata": {},
     "output_type": "execute_result"
    }
   ],
   "source": [
    "df.isnull().sum()"
   ]
  },
  {
   "cell_type": "code",
   "execution_count": 24,
   "metadata": {
    "id": "aZZILjTeTlj8"
   },
   "outputs": [
    {
     "data": {
      "text/plain": [
       "10+ years    44814\n",
       "2 years      12405\n",
       "3 years      10963\n",
       "< 1 year     10861\n",
       "5 years       9136\n",
       "1 year        8827\n",
       "4 years       8314\n",
       "7 years       7904\n",
       "6 years       7754\n",
       "8 years       6658\n",
       "9 years       5303\n",
       "Name: Length_Employed, dtype: int64"
      ]
     },
     "execution_count": 24,
     "metadata": {},
     "output_type": "execute_result"
    }
   ],
   "source": [
    "from sklearn.preprocessing import LabelEncoder\n",
    "from sklearn.preprocessing import OrdinalEncoder\n",
    "\n",
    "df['Length_Employed'].value_counts()"
   ]
  },
  {
   "cell_type": "code",
   "execution_count": 25,
   "metadata": {
    "id": "EX6u9auUlW4T"
   },
   "outputs": [
    {
     "data": {
      "text/plain": [
       "Mortgage    59561\n",
       "Rent        47549\n",
       "Own         10593\n",
       "Other          39\n",
       "None           10\n",
       "Name: Home_Owner, dtype: int64"
      ]
     },
     "execution_count": 25,
     "metadata": {},
     "output_type": "execute_result"
    }
   ],
   "source": [
    "df['Home_Owner'].value_counts()"
   ]
  },
  {
   "cell_type": "code",
   "execution_count": 26,
   "metadata": {
    "id": "aKMqEHlUm1N0"
   },
   "outputs": [],
   "source": [
    "# replace NaN values with mean value\n",
    "df.Months_Since_Deliquency = df.Months_Since_Deliquency.fillna(df.Months_Since_Deliquency.median())"
   ]
  },
  {
   "cell_type": "code",
   "execution_count": 27,
   "metadata": {
    "id": "heEvuFe-np6l"
   },
   "outputs": [],
   "source": [
    "df.Length_Employed = df.Length_Employed.fillna('< 1 year')\n",
    "df.Home_Owner = df.Home_Owner.fillna('Other')"
   ]
  },
  {
   "cell_type": "code",
   "execution_count": 28,
   "metadata": {
    "id": "lD2SYuI_onEA"
   },
   "outputs": [
    {
     "data": {
      "text/plain": [
       "Loan_ID                    0\n",
       "Loan_Amount_Requested      0\n",
       "Length_Employed            0\n",
       "Home_Owner                 0\n",
       "Annual_Income              0\n",
       "Income_Verified            0\n",
       "Purpose_Of_Loan            0\n",
       "Debt_To_Income             0\n",
       "Inquiries_Last_6Mo         0\n",
       "Months_Since_Deliquency    0\n",
       "Number_Open_Accounts       0\n",
       "Total_Accounts             0\n",
       "Gender                     0\n",
       "Interest_Rate              0\n",
       "dtype: int64"
      ]
     },
     "execution_count": 28,
     "metadata": {},
     "output_type": "execute_result"
    }
   ],
   "source": [
    "df.isnull().sum()"
   ]
  },
  {
   "cell_type": "code",
   "execution_count": 29,
   "metadata": {
    "id": "Ecv6RklMtHVA"
   },
   "outputs": [],
   "source": [
    "categorical_features = ['Income_Verified', 'Purpose_Of_Loan','Length_Employed','Home_Owner']\n",
    "\n",
    "encoder = LabelEncoder()\n",
    "for feature in categorical_features:\n",
    "    df[feature] = encoder.fit_transform(df[feature])"
   ]
  },
  {
   "cell_type": "code",
   "execution_count": 30,
   "metadata": {
    "id": "m7mMMM-2qPVT"
   },
   "outputs": [],
   "source": [
    "binary_valued_features = ['Gender']\n",
    "bin_dict = {'Female':0, 'Male':1}\n",
    "# Replace binary values in df using the provided dictionary\n",
    "for item in binary_valued_features:\n",
    "  df.replace({item:bin_dict},inplace=True)"
   ]
  },
  {
   "cell_type": "markdown",
   "metadata": {
    "id": "yZZIuXVzqq4M"
   },
   "source": [
    "**Removing Unwanted Feature**"
   ]
  },
  {
   "cell_type": "code",
   "execution_count": 31,
   "metadata": {
    "id": "bKCaKpuWqwhc"
   },
   "outputs": [
    {
     "data": {
      "text/html": [
       "<div>\n",
       "<style scoped>\n",
       "    .dataframe tbody tr th:only-of-type {\n",
       "        vertical-align: middle;\n",
       "    }\n",
       "\n",
       "    .dataframe tbody tr th {\n",
       "        vertical-align: top;\n",
       "    }\n",
       "\n",
       "    .dataframe thead th {\n",
       "        text-align: right;\n",
       "    }\n",
       "</style>\n",
       "<table border=\"1\" class=\"dataframe\">\n",
       "  <thead>\n",
       "    <tr style=\"text-align: right;\">\n",
       "      <th></th>\n",
       "      <th>Loan_Amount_Requested</th>\n",
       "      <th>Length_Employed</th>\n",
       "      <th>Home_Owner</th>\n",
       "      <th>Annual_Income</th>\n",
       "      <th>Income_Verified</th>\n",
       "      <th>Purpose_Of_Loan</th>\n",
       "      <th>Debt_To_Income</th>\n",
       "      <th>Inquiries_Last_6Mo</th>\n",
       "      <th>Months_Since_Deliquency</th>\n",
       "      <th>Number_Open_Accounts</th>\n",
       "      <th>Total_Accounts</th>\n",
       "      <th>Gender</th>\n",
       "      <th>Interest_Rate</th>\n",
       "    </tr>\n",
       "  </thead>\n",
       "  <tbody>\n",
       "    <tr>\n",
       "      <th>0</th>\n",
       "      <td>7.000</td>\n",
       "      <td>10</td>\n",
       "      <td>4</td>\n",
       "      <td>68000.0</td>\n",
       "      <td>2</td>\n",
       "      <td>0</td>\n",
       "      <td>18.37</td>\n",
       "      <td>0</td>\n",
       "      <td>31.0</td>\n",
       "      <td>9</td>\n",
       "      <td>14</td>\n",
       "      <td>0</td>\n",
       "      <td>1</td>\n",
       "    </tr>\n",
       "    <tr>\n",
       "      <th>2</th>\n",
       "      <td>24.725</td>\n",
       "      <td>7</td>\n",
       "      <td>0</td>\n",
       "      <td>75566.4</td>\n",
       "      <td>1</td>\n",
       "      <td>2</td>\n",
       "      <td>15.88</td>\n",
       "      <td>0</td>\n",
       "      <td>31.0</td>\n",
       "      <td>12</td>\n",
       "      <td>16</td>\n",
       "      <td>1</td>\n",
       "      <td>3</td>\n",
       "    </tr>\n",
       "    <tr>\n",
       "      <th>3</th>\n",
       "      <td>16.000</td>\n",
       "      <td>10</td>\n",
       "      <td>2</td>\n",
       "      <td>56160.0</td>\n",
       "      <td>1</td>\n",
       "      <td>2</td>\n",
       "      <td>14.34</td>\n",
       "      <td>3</td>\n",
       "      <td>31.0</td>\n",
       "      <td>16</td>\n",
       "      <td>22</td>\n",
       "      <td>1</td>\n",
       "      <td>3</td>\n",
       "    </tr>\n",
       "    <tr>\n",
       "      <th>4</th>\n",
       "      <td>17.000</td>\n",
       "      <td>8</td>\n",
       "      <td>3</td>\n",
       "      <td>96000.0</td>\n",
       "      <td>1</td>\n",
       "      <td>2</td>\n",
       "      <td>22.17</td>\n",
       "      <td>1</td>\n",
       "      <td>31.0</td>\n",
       "      <td>19</td>\n",
       "      <td>30</td>\n",
       "      <td>0</td>\n",
       "      <td>1</td>\n",
       "    </tr>\n",
       "    <tr>\n",
       "      <th>5</th>\n",
       "      <td>4.500</td>\n",
       "      <td>2</td>\n",
       "      <td>4</td>\n",
       "      <td>30000.0</td>\n",
       "      <td>1</td>\n",
       "      <td>1</td>\n",
       "      <td>10.88</td>\n",
       "      <td>1</td>\n",
       "      <td>31.0</td>\n",
       "      <td>12</td>\n",
       "      <td>15</td>\n",
       "      <td>1</td>\n",
       "      <td>3</td>\n",
       "    </tr>\n",
       "    <tr>\n",
       "      <th>...</th>\n",
       "      <td>...</td>\n",
       "      <td>...</td>\n",
       "      <td>...</td>\n",
       "      <td>...</td>\n",
       "      <td>...</td>\n",
       "      <td>...</td>\n",
       "      <td>...</td>\n",
       "      <td>...</td>\n",
       "      <td>...</td>\n",
       "      <td>...</td>\n",
       "      <td>...</td>\n",
       "      <td>...</td>\n",
       "      <td>...</td>\n",
       "    </tr>\n",
       "    <tr>\n",
       "      <th>164298</th>\n",
       "      <td>25.000</td>\n",
       "      <td>0</td>\n",
       "      <td>0</td>\n",
       "      <td>70000.0</td>\n",
       "      <td>1</td>\n",
       "      <td>11</td>\n",
       "      <td>0.79</td>\n",
       "      <td>0</td>\n",
       "      <td>31.0</td>\n",
       "      <td>8</td>\n",
       "      <td>27</td>\n",
       "      <td>1</td>\n",
       "      <td>2</td>\n",
       "    </tr>\n",
       "    <tr>\n",
       "      <th>164299</th>\n",
       "      <td>3.000</td>\n",
       "      <td>3</td>\n",
       "      <td>0</td>\n",
       "      <td>45000.0</td>\n",
       "      <td>1</td>\n",
       "      <td>6</td>\n",
       "      <td>8.43</td>\n",
       "      <td>2</td>\n",
       "      <td>31.0</td>\n",
       "      <td>25</td>\n",
       "      <td>36</td>\n",
       "      <td>1</td>\n",
       "      <td>2</td>\n",
       "    </tr>\n",
       "    <tr>\n",
       "      <th>164300</th>\n",
       "      <td>24.000</td>\n",
       "      <td>0</td>\n",
       "      <td>4</td>\n",
       "      <td>108000.0</td>\n",
       "      <td>1</td>\n",
       "      <td>9</td>\n",
       "      <td>14.30</td>\n",
       "      <td>0</td>\n",
       "      <td>22.0</td>\n",
       "      <td>12</td>\n",
       "      <td>36</td>\n",
       "      <td>0</td>\n",
       "      <td>3</td>\n",
       "    </tr>\n",
       "    <tr>\n",
       "      <th>164302</th>\n",
       "      <td>24.000</td>\n",
       "      <td>2</td>\n",
       "      <td>2</td>\n",
       "      <td>110000.0</td>\n",
       "      <td>0</td>\n",
       "      <td>2</td>\n",
       "      <td>15.87</td>\n",
       "      <td>1</td>\n",
       "      <td>6.0</td>\n",
       "      <td>22</td>\n",
       "      <td>38</td>\n",
       "      <td>1</td>\n",
       "      <td>2</td>\n",
       "    </tr>\n",
       "    <tr>\n",
       "      <th>164303</th>\n",
       "      <td>35.000</td>\n",
       "      <td>1</td>\n",
       "      <td>4</td>\n",
       "      <td>115000.0</td>\n",
       "      <td>0</td>\n",
       "      <td>2</td>\n",
       "      <td>24.06</td>\n",
       "      <td>0</td>\n",
       "      <td>37.0</td>\n",
       "      <td>10</td>\n",
       "      <td>39</td>\n",
       "      <td>1</td>\n",
       "      <td>3</td>\n",
       "    </tr>\n",
       "  </tbody>\n",
       "</table>\n",
       "<p>139186 rows × 13 columns</p>\n",
       "</div>"
      ],
      "text/plain": [
       "        Loan_Amount_Requested  Length_Employed  Home_Owner  Annual_Income  \\\n",
       "0                       7.000               10           4        68000.0   \n",
       "2                      24.725                7           0        75566.4   \n",
       "3                      16.000               10           2        56160.0   \n",
       "4                      17.000                8           3        96000.0   \n",
       "5                       4.500                2           4        30000.0   \n",
       "...                       ...              ...         ...            ...   \n",
       "164298                 25.000                0           0        70000.0   \n",
       "164299                  3.000                3           0        45000.0   \n",
       "164300                 24.000                0           4       108000.0   \n",
       "164302                 24.000                2           2       110000.0   \n",
       "164303                 35.000                1           4       115000.0   \n",
       "\n",
       "        Income_Verified  Purpose_Of_Loan  Debt_To_Income  Inquiries_Last_6Mo  \\\n",
       "0                     2                0           18.37                   0   \n",
       "2                     1                2           15.88                   0   \n",
       "3                     1                2           14.34                   3   \n",
       "4                     1                2           22.17                   1   \n",
       "5                     1                1           10.88                   1   \n",
       "...                 ...              ...             ...                 ...   \n",
       "164298                1               11            0.79                   0   \n",
       "164299                1                6            8.43                   2   \n",
       "164300                1                9           14.30                   0   \n",
       "164302                0                2           15.87                   1   \n",
       "164303                0                2           24.06                   0   \n",
       "\n",
       "        Months_Since_Deliquency  Number_Open_Accounts  Total_Accounts  Gender  \\\n",
       "0                          31.0                     9              14       0   \n",
       "2                          31.0                    12              16       1   \n",
       "3                          31.0                    16              22       1   \n",
       "4                          31.0                    19              30       0   \n",
       "5                          31.0                    12              15       1   \n",
       "...                         ...                   ...             ...     ...   \n",
       "164298                     31.0                     8              27       1   \n",
       "164299                     31.0                    25              36       1   \n",
       "164300                     22.0                    12              36       0   \n",
       "164302                      6.0                    22              38       1   \n",
       "164303                     37.0                    10              39       1   \n",
       "\n",
       "        Interest_Rate  \n",
       "0                   1  \n",
       "2                   3  \n",
       "3                   3  \n",
       "4                   1  \n",
       "5                   3  \n",
       "...               ...  \n",
       "164298              2  \n",
       "164299              2  \n",
       "164300              3  \n",
       "164302              2  \n",
       "164303              3  \n",
       "\n",
       "[139186 rows x 13 columns]"
      ]
     },
     "execution_count": 31,
     "metadata": {},
     "output_type": "execute_result"
    }
   ],
   "source": [
    "df.drop(['Loan_ID'], inplace=True, axis = 1)\n",
    "df"
   ]
  },
  {
   "cell_type": "markdown",
   "metadata": {
    "id": "b8dnmVHyrhPI"
   },
   "source": [
    "After this point, we have encoded all the values in the dataset into numerical values"
   ]
  },
  {
   "cell_type": "code",
   "execution_count": 32,
   "metadata": {
    "id": "O-1D-bL1vE4a"
   },
   "outputs": [
    {
     "name": "stdout",
     "output_type": "stream",
     "text": [
      "<class 'pandas.core.frame.DataFrame'>\n",
      "Int64Index: 139186 entries, 0 to 164303\n",
      "Data columns (total 13 columns):\n",
      " #   Column                   Non-Null Count   Dtype  \n",
      "---  ------                   --------------   -----  \n",
      " 0   Loan_Amount_Requested    139186 non-null  float64\n",
      " 1   Length_Employed          139186 non-null  int32  \n",
      " 2   Home_Owner               139186 non-null  int32  \n",
      " 3   Annual_Income            139186 non-null  float64\n",
      " 4   Income_Verified          139186 non-null  int32  \n",
      " 5   Purpose_Of_Loan          139186 non-null  int32  \n",
      " 6   Debt_To_Income           139186 non-null  float64\n",
      " 7   Inquiries_Last_6Mo       139186 non-null  int64  \n",
      " 8   Months_Since_Deliquency  139186 non-null  float64\n",
      " 9   Number_Open_Accounts     139186 non-null  int64  \n",
      " 10  Total_Accounts           139186 non-null  int64  \n",
      " 11  Gender                   139186 non-null  int64  \n",
      " 12  Interest_Rate            139186 non-null  int64  \n",
      "dtypes: float64(4), int32(4), int64(5)\n",
      "memory usage: 16.8 MB\n"
     ]
    }
   ],
   "source": [
    "df.info()"
   ]
  },
  {
   "cell_type": "code",
   "execution_count": 33,
   "metadata": {
    "id": "QtoqXpzDrztq"
   },
   "outputs": [
    {
     "data": {
      "text/html": [
       "<div>\n",
       "<style scoped>\n",
       "    .dataframe tbody tr th:only-of-type {\n",
       "        vertical-align: middle;\n",
       "    }\n",
       "\n",
       "    .dataframe tbody tr th {\n",
       "        vertical-align: top;\n",
       "    }\n",
       "\n",
       "    .dataframe thead th {\n",
       "        text-align: right;\n",
       "    }\n",
       "</style>\n",
       "<table border=\"1\" class=\"dataframe\">\n",
       "  <thead>\n",
       "    <tr style=\"text-align: right;\">\n",
       "      <th></th>\n",
       "      <th>count</th>\n",
       "      <th>mean</th>\n",
       "      <th>std</th>\n",
       "      <th>min</th>\n",
       "      <th>25%</th>\n",
       "      <th>50%</th>\n",
       "      <th>75%</th>\n",
       "      <th>max</th>\n",
       "    </tr>\n",
       "  </thead>\n",
       "  <tbody>\n",
       "    <tr>\n",
       "      <th>Loan_Amount_Requested</th>\n",
       "      <td>139186.0</td>\n",
       "      <td>14.341977</td>\n",
       "      <td>8.283202</td>\n",
       "      <td>1.0</td>\n",
       "      <td>8.00</td>\n",
       "      <td>12.00</td>\n",
       "      <td>20.00</td>\n",
       "      <td>35.00</td>\n",
       "    </tr>\n",
       "    <tr>\n",
       "      <th>Length_Employed</th>\n",
       "      <td>139186.0</td>\n",
       "      <td>3.990143</td>\n",
       "      <td>3.360068</td>\n",
       "      <td>0.0</td>\n",
       "      <td>1.00</td>\n",
       "      <td>3.00</td>\n",
       "      <td>7.00</td>\n",
       "      <td>10.00</td>\n",
       "    </tr>\n",
       "    <tr>\n",
       "      <th>Home_Owner</th>\n",
       "      <td>139186.0</td>\n",
       "      <td>1.903431</td>\n",
       "      <td>1.773431</td>\n",
       "      <td>0.0</td>\n",
       "      <td>0.00</td>\n",
       "      <td>2.00</td>\n",
       "      <td>4.00</td>\n",
       "      <td>4.00</td>\n",
       "    </tr>\n",
       "    <tr>\n",
       "      <th>Annual_Income</th>\n",
       "      <td>139186.0</td>\n",
       "      <td>73084.677714</td>\n",
       "      <td>47665.957284</td>\n",
       "      <td>4000.0</td>\n",
       "      <td>45000.00</td>\n",
       "      <td>63000.00</td>\n",
       "      <td>88664.50</td>\n",
       "      <td>1950000.00</td>\n",
       "    </tr>\n",
       "    <tr>\n",
       "      <th>Income_Verified</th>\n",
       "      <td>139186.0</td>\n",
       "      <td>0.954859</td>\n",
       "      <td>0.821923</td>\n",
       "      <td>0.0</td>\n",
       "      <td>0.00</td>\n",
       "      <td>1.00</td>\n",
       "      <td>2.00</td>\n",
       "      <td>2.00</td>\n",
       "    </tr>\n",
       "    <tr>\n",
       "      <th>Purpose_Of_Loan</th>\n",
       "      <td>139186.0</td>\n",
       "      <td>2.645359</td>\n",
       "      <td>2.394458</td>\n",
       "      <td>0.0</td>\n",
       "      <td>2.00</td>\n",
       "      <td>2.00</td>\n",
       "      <td>2.00</td>\n",
       "      <td>13.00</td>\n",
       "    </tr>\n",
       "    <tr>\n",
       "      <th>Debt_To_Income</th>\n",
       "      <td>139186.0</td>\n",
       "      <td>17.206382</td>\n",
       "      <td>7.845499</td>\n",
       "      <td>0.0</td>\n",
       "      <td>11.37</td>\n",
       "      <td>16.84</td>\n",
       "      <td>22.78</td>\n",
       "      <td>39.99</td>\n",
       "    </tr>\n",
       "    <tr>\n",
       "      <th>Inquiries_Last_6Mo</th>\n",
       "      <td>139186.0</td>\n",
       "      <td>0.781946</td>\n",
       "      <td>1.035179</td>\n",
       "      <td>0.0</td>\n",
       "      <td>0.00</td>\n",
       "      <td>0.00</td>\n",
       "      <td>1.00</td>\n",
       "      <td>8.00</td>\n",
       "    </tr>\n",
       "    <tr>\n",
       "      <th>Months_Since_Deliquency</th>\n",
       "      <td>139186.0</td>\n",
       "      <td>32.486292</td>\n",
       "      <td>14.881628</td>\n",
       "      <td>0.0</td>\n",
       "      <td>31.00</td>\n",
       "      <td>31.00</td>\n",
       "      <td>31.00</td>\n",
       "      <td>180.00</td>\n",
       "    </tr>\n",
       "    <tr>\n",
       "      <th>Number_Open_Accounts</th>\n",
       "      <td>139186.0</td>\n",
       "      <td>11.191054</td>\n",
       "      <td>4.980720</td>\n",
       "      <td>0.0</td>\n",
       "      <td>8.00</td>\n",
       "      <td>10.00</td>\n",
       "      <td>14.00</td>\n",
       "      <td>54.00</td>\n",
       "    </tr>\n",
       "    <tr>\n",
       "      <th>Total_Accounts</th>\n",
       "      <td>139186.0</td>\n",
       "      <td>25.064123</td>\n",
       "      <td>11.571100</td>\n",
       "      <td>2.0</td>\n",
       "      <td>17.00</td>\n",
       "      <td>23.00</td>\n",
       "      <td>32.00</td>\n",
       "      <td>116.00</td>\n",
       "    </tr>\n",
       "    <tr>\n",
       "      <th>Gender</th>\n",
       "      <td>139186.0</td>\n",
       "      <td>0.712730</td>\n",
       "      <td>0.452490</td>\n",
       "      <td>0.0</td>\n",
       "      <td>0.00</td>\n",
       "      <td>1.00</td>\n",
       "      <td>1.00</td>\n",
       "      <td>1.00</td>\n",
       "    </tr>\n",
       "    <tr>\n",
       "      <th>Interest_Rate</th>\n",
       "      <td>139186.0</td>\n",
       "      <td>2.158450</td>\n",
       "      <td>0.738162</td>\n",
       "      <td>1.0</td>\n",
       "      <td>2.00</td>\n",
       "      <td>2.00</td>\n",
       "      <td>3.00</td>\n",
       "      <td>3.00</td>\n",
       "    </tr>\n",
       "  </tbody>\n",
       "</table>\n",
       "</div>"
      ],
      "text/plain": [
       "                            count          mean           std     min  \\\n",
       "Loan_Amount_Requested    139186.0     14.341977      8.283202     1.0   \n",
       "Length_Employed          139186.0      3.990143      3.360068     0.0   \n",
       "Home_Owner               139186.0      1.903431      1.773431     0.0   \n",
       "Annual_Income            139186.0  73084.677714  47665.957284  4000.0   \n",
       "Income_Verified          139186.0      0.954859      0.821923     0.0   \n",
       "Purpose_Of_Loan          139186.0      2.645359      2.394458     0.0   \n",
       "Debt_To_Income           139186.0     17.206382      7.845499     0.0   \n",
       "Inquiries_Last_6Mo       139186.0      0.781946      1.035179     0.0   \n",
       "Months_Since_Deliquency  139186.0     32.486292     14.881628     0.0   \n",
       "Number_Open_Accounts     139186.0     11.191054      4.980720     0.0   \n",
       "Total_Accounts           139186.0     25.064123     11.571100     2.0   \n",
       "Gender                   139186.0      0.712730      0.452490     0.0   \n",
       "Interest_Rate            139186.0      2.158450      0.738162     1.0   \n",
       "\n",
       "                              25%       50%       75%         max  \n",
       "Loan_Amount_Requested        8.00     12.00     20.00       35.00  \n",
       "Length_Employed              1.00      3.00      7.00       10.00  \n",
       "Home_Owner                   0.00      2.00      4.00        4.00  \n",
       "Annual_Income            45000.00  63000.00  88664.50  1950000.00  \n",
       "Income_Verified              0.00      1.00      2.00        2.00  \n",
       "Purpose_Of_Loan              2.00      2.00      2.00       13.00  \n",
       "Debt_To_Income              11.37     16.84     22.78       39.99  \n",
       "Inquiries_Last_6Mo           0.00      0.00      1.00        8.00  \n",
       "Months_Since_Deliquency     31.00     31.00     31.00      180.00  \n",
       "Number_Open_Accounts         8.00     10.00     14.00       54.00  \n",
       "Total_Accounts              17.00     23.00     32.00      116.00  \n",
       "Gender                       0.00      1.00      1.00        1.00  \n",
       "Interest_Rate                2.00      2.00      3.00        3.00  "
      ]
     },
     "execution_count": 33,
     "metadata": {},
     "output_type": "execute_result"
    }
   ],
   "source": [
    "df.describe().transpose()"
   ]
  },
  {
   "cell_type": "markdown",
   "metadata": {
    "id": "FAJvBjPnrg2J"
   },
   "source": [
    "**Splitting Data**"
   ]
  },
  {
   "cell_type": "code",
   "execution_count": 34,
   "metadata": {
    "id": "l3GNcYqrt666"
   },
   "outputs": [],
   "source": [
    "y = df['Interest_Rate']\n",
    "X = df.values[:, :-1] # get all columns except the last column\n",
    "\n",
    "# spliting training and testing data\n",
    "from sklearn.model_selection import train_test_split\n",
    "\n",
    "X_train, X_test, y_train, y_test = train_test_split(X,y,test_size=0.2,random_state=50)"
   ]
  },
  {
   "cell_type": "markdown",
   "metadata": {
    "id": "zVllFW6LuICJ"
   },
   "source": [
    "Here when using train_test_split, we use a random_state initializing value to make sure that the data splitting is done in the same way even in a different run of the code."
   ]
  },
  {
   "cell_type": "markdown",
   "metadata": {
    "id": "ZyeFq3p1uMGq"
   },
   "source": [
    "**Feature Scaling**\n",
    "\n",
    "After encoding categorical data, the dataset consists of features with different data ranges. These values are standardized and feature scaling is done as follows. Numerical features were scaled by removing the\n",
    "mean and by scaling to unit variance (StandardScaler) as follows."
   ]
  },
  {
   "cell_type": "code",
   "execution_count": 35,
   "metadata": {
    "id": "ohe-BcPduZqH"
   },
   "outputs": [],
   "source": [
    "from sklearn.preprocessing import StandardScaler\n",
    "\n",
    "# Feature scaling\n",
    "scaler = StandardScaler()\n",
    "scaler.fit(X)\n",
    "X_train = scaler.transform(X_train)\n",
    "X_test = scaler.transform(X_test)"
   ]
  },
  {
   "cell_type": "code",
   "execution_count": 36,
   "metadata": {
    "id": "G3NZMY6WvBHL"
   },
   "outputs": [],
   "source": [
    "X_train = pd.DataFrame(X_train)\n",
    "X_test = pd.DataFrame(X_test)"
   ]
  },
  {
   "cell_type": "markdown",
   "metadata": {
    "id": "58LhOSZfwW8I"
   },
   "source": [
    "### **Feature Engineering**\n",
    "\n",
    "Feature Selection is one of the core concepts in machine learning which hugely impacts the performance of our model. The data features that we use to train your machine learning models have a huge influence on the performance we can achieve. Irrelevant or partially relevant features can negatively impact model performance."
   ]
  },
  {
   "cell_type": "markdown",
   "metadata": {
    "id": "bgRhg2_CwrMg"
   },
   "source": [
    "**Drawing the Correlation Matrix**\n",
    "\n",
    "Therefore I will be performing the Correlation Coefficient checking mechanism in order to check the relationship between the different features with the output.\n",
    "\n",
    "Each of those correlation types can exist in a spectrum represented by values from 0 to 1 where slightly or highly positive correlation features can be something like 0.5 or 0.7. If there is a strong and perfect positive correlation, then the result is represented by a correlation score value of 0.9 or 1."
   ]
  },
  {
   "cell_type": "code",
   "execution_count": 37,
   "metadata": {
    "id": "DeqmGGypw7qZ"
   },
   "outputs": [
    {
     "data": {
      "text/html": [
       "<div>\n",
       "<style scoped>\n",
       "    .dataframe tbody tr th:only-of-type {\n",
       "        vertical-align: middle;\n",
       "    }\n",
       "\n",
       "    .dataframe tbody tr th {\n",
       "        vertical-align: top;\n",
       "    }\n",
       "\n",
       "    .dataframe thead th {\n",
       "        text-align: right;\n",
       "    }\n",
       "</style>\n",
       "<table border=\"1\" class=\"dataframe\">\n",
       "  <thead>\n",
       "    <tr style=\"text-align: right;\">\n",
       "      <th></th>\n",
       "      <th>0</th>\n",
       "      <th>1</th>\n",
       "      <th>2</th>\n",
       "      <th>3</th>\n",
       "      <th>4</th>\n",
       "      <th>5</th>\n",
       "      <th>6</th>\n",
       "      <th>7</th>\n",
       "      <th>8</th>\n",
       "      <th>9</th>\n",
       "      <th>10</th>\n",
       "      <th>11</th>\n",
       "    </tr>\n",
       "  </thead>\n",
       "  <tbody>\n",
       "    <tr>\n",
       "      <th>0</th>\n",
       "      <td>1.000000</td>\n",
       "      <td>-0.079753</td>\n",
       "      <td>-0.191634</td>\n",
       "      <td>0.428829</td>\n",
       "      <td>-0.360065</td>\n",
       "      <td>-0.155211</td>\n",
       "      <td>0.059496</td>\n",
       "      <td>-0.007793</td>\n",
       "      <td>-0.031293</td>\n",
       "      <td>0.201842</td>\n",
       "      <td>0.232726</td>\n",
       "      <td>0.000330</td>\n",
       "    </tr>\n",
       "    <tr>\n",
       "      <th>1</th>\n",
       "      <td>-0.079753</td>\n",
       "      <td>1.000000</td>\n",
       "      <td>0.065606</td>\n",
       "      <td>-0.088578</td>\n",
       "      <td>-0.052624</td>\n",
       "      <td>0.012277</td>\n",
       "      <td>-0.002118</td>\n",
       "      <td>-0.001078</td>\n",
       "      <td>0.018644</td>\n",
       "      <td>-0.039750</td>\n",
       "      <td>-0.067564</td>\n",
       "      <td>-0.002030</td>\n",
       "    </tr>\n",
       "    <tr>\n",
       "      <th>2</th>\n",
       "      <td>-0.191634</td>\n",
       "      <td>0.065606</td>\n",
       "      <td>1.000000</td>\n",
       "      <td>-0.199644</td>\n",
       "      <td>0.078182</td>\n",
       "      <td>0.035908</td>\n",
       "      <td>0.001198</td>\n",
       "      <td>-0.054307</td>\n",
       "      <td>0.026476</td>\n",
       "      <td>-0.124634</td>\n",
       "      <td>-0.212384</td>\n",
       "      <td>0.003004</td>\n",
       "    </tr>\n",
       "    <tr>\n",
       "      <th>3</th>\n",
       "      <td>0.428829</td>\n",
       "      <td>-0.088578</td>\n",
       "      <td>-0.199644</td>\n",
       "      <td>1.000000</td>\n",
       "      <td>-0.118595</td>\n",
       "      <td>0.011209</td>\n",
       "      <td>-0.209011</td>\n",
       "      <td>0.068372</td>\n",
       "      <td>-0.044064</td>\n",
       "      <td>0.179346</td>\n",
       "      <td>0.255948</td>\n",
       "      <td>-0.001909</td>\n",
       "    </tr>\n",
       "    <tr>\n",
       "      <th>4</th>\n",
       "      <td>-0.360065</td>\n",
       "      <td>-0.052624</td>\n",
       "      <td>0.078182</td>\n",
       "      <td>-0.118595</td>\n",
       "      <td>1.000000</td>\n",
       "      <td>0.011815</td>\n",
       "      <td>-0.115725</td>\n",
       "      <td>-0.065903</td>\n",
       "      <td>-0.004201</td>\n",
       "      <td>-0.065982</td>\n",
       "      <td>-0.099057</td>\n",
       "      <td>-0.004148</td>\n",
       "    </tr>\n",
       "    <tr>\n",
       "      <th>5</th>\n",
       "      <td>-0.155211</td>\n",
       "      <td>0.012277</td>\n",
       "      <td>0.035908</td>\n",
       "      <td>0.011209</td>\n",
       "      <td>0.011815</td>\n",
       "      <td>1.000000</td>\n",
       "      <td>-0.108923</td>\n",
       "      <td>0.052883</td>\n",
       "      <td>-0.002517</td>\n",
       "      <td>-0.088531</td>\n",
       "      <td>-0.070522</td>\n",
       "      <td>0.001068</td>\n",
       "    </tr>\n",
       "    <tr>\n",
       "      <th>6</th>\n",
       "      <td>0.059496</td>\n",
       "      <td>-0.002118</td>\n",
       "      <td>0.001198</td>\n",
       "      <td>-0.209011</td>\n",
       "      <td>-0.115725</td>\n",
       "      <td>-0.108923</td>\n",
       "      <td>1.000000</td>\n",
       "      <td>-0.005432</td>\n",
       "      <td>0.000642</td>\n",
       "      <td>0.304330</td>\n",
       "      <td>0.232509</td>\n",
       "      <td>-0.000852</td>\n",
       "    </tr>\n",
       "    <tr>\n",
       "      <th>7</th>\n",
       "      <td>-0.007793</td>\n",
       "      <td>-0.001078</td>\n",
       "      <td>-0.054307</td>\n",
       "      <td>0.068372</td>\n",
       "      <td>-0.065903</td>\n",
       "      <td>0.052883</td>\n",
       "      <td>-0.005432</td>\n",
       "      <td>1.000000</td>\n",
       "      <td>0.010991</td>\n",
       "      <td>0.099036</td>\n",
       "      <td>0.130524</td>\n",
       "      <td>-0.000260</td>\n",
       "    </tr>\n",
       "    <tr>\n",
       "      <th>8</th>\n",
       "      <td>-0.031293</td>\n",
       "      <td>0.018644</td>\n",
       "      <td>0.026476</td>\n",
       "      <td>-0.044064</td>\n",
       "      <td>-0.004201</td>\n",
       "      <td>-0.002517</td>\n",
       "      <td>0.000642</td>\n",
       "      <td>0.010991</td>\n",
       "      <td>1.000000</td>\n",
       "      <td>-0.026220</td>\n",
       "      <td>-0.023038</td>\n",
       "      <td>-0.002283</td>\n",
       "    </tr>\n",
       "    <tr>\n",
       "      <th>9</th>\n",
       "      <td>0.201842</td>\n",
       "      <td>-0.039750</td>\n",
       "      <td>-0.124634</td>\n",
       "      <td>0.179346</td>\n",
       "      <td>-0.065982</td>\n",
       "      <td>-0.088531</td>\n",
       "      <td>0.304330</td>\n",
       "      <td>0.099036</td>\n",
       "      <td>-0.026220</td>\n",
       "      <td>1.000000</td>\n",
       "      <td>0.681338</td>\n",
       "      <td>0.001435</td>\n",
       "    </tr>\n",
       "    <tr>\n",
       "      <th>10</th>\n",
       "      <td>0.232726</td>\n",
       "      <td>-0.067564</td>\n",
       "      <td>-0.212384</td>\n",
       "      <td>0.255948</td>\n",
       "      <td>-0.099057</td>\n",
       "      <td>-0.070522</td>\n",
       "      <td>0.232509</td>\n",
       "      <td>0.130524</td>\n",
       "      <td>-0.023038</td>\n",
       "      <td>0.681338</td>\n",
       "      <td>1.000000</td>\n",
       "      <td>0.002160</td>\n",
       "    </tr>\n",
       "    <tr>\n",
       "      <th>11</th>\n",
       "      <td>0.000330</td>\n",
       "      <td>-0.002030</td>\n",
       "      <td>0.003004</td>\n",
       "      <td>-0.001909</td>\n",
       "      <td>-0.004148</td>\n",
       "      <td>0.001068</td>\n",
       "      <td>-0.000852</td>\n",
       "      <td>-0.000260</td>\n",
       "      <td>-0.002283</td>\n",
       "      <td>0.001435</td>\n",
       "      <td>0.002160</td>\n",
       "      <td>1.000000</td>\n",
       "    </tr>\n",
       "  </tbody>\n",
       "</table>\n",
       "</div>"
      ],
      "text/plain": [
       "          0         1         2         3         4         5         6   \\\n",
       "0   1.000000 -0.079753 -0.191634  0.428829 -0.360065 -0.155211  0.059496   \n",
       "1  -0.079753  1.000000  0.065606 -0.088578 -0.052624  0.012277 -0.002118   \n",
       "2  -0.191634  0.065606  1.000000 -0.199644  0.078182  0.035908  0.001198   \n",
       "3   0.428829 -0.088578 -0.199644  1.000000 -0.118595  0.011209 -0.209011   \n",
       "4  -0.360065 -0.052624  0.078182 -0.118595  1.000000  0.011815 -0.115725   \n",
       "5  -0.155211  0.012277  0.035908  0.011209  0.011815  1.000000 -0.108923   \n",
       "6   0.059496 -0.002118  0.001198 -0.209011 -0.115725 -0.108923  1.000000   \n",
       "7  -0.007793 -0.001078 -0.054307  0.068372 -0.065903  0.052883 -0.005432   \n",
       "8  -0.031293  0.018644  0.026476 -0.044064 -0.004201 -0.002517  0.000642   \n",
       "9   0.201842 -0.039750 -0.124634  0.179346 -0.065982 -0.088531  0.304330   \n",
       "10  0.232726 -0.067564 -0.212384  0.255948 -0.099057 -0.070522  0.232509   \n",
       "11  0.000330 -0.002030  0.003004 -0.001909 -0.004148  0.001068 -0.000852   \n",
       "\n",
       "          7         8         9         10        11  \n",
       "0  -0.007793 -0.031293  0.201842  0.232726  0.000330  \n",
       "1  -0.001078  0.018644 -0.039750 -0.067564 -0.002030  \n",
       "2  -0.054307  0.026476 -0.124634 -0.212384  0.003004  \n",
       "3   0.068372 -0.044064  0.179346  0.255948 -0.001909  \n",
       "4  -0.065903 -0.004201 -0.065982 -0.099057 -0.004148  \n",
       "5   0.052883 -0.002517 -0.088531 -0.070522  0.001068  \n",
       "6  -0.005432  0.000642  0.304330  0.232509 -0.000852  \n",
       "7   1.000000  0.010991  0.099036  0.130524 -0.000260  \n",
       "8   0.010991  1.000000 -0.026220 -0.023038 -0.002283  \n",
       "9   0.099036 -0.026220  1.000000  0.681338  0.001435  \n",
       "10  0.130524 -0.023038  0.681338  1.000000  0.002160  \n",
       "11 -0.000260 -0.002283  0.001435  0.002160  1.000000  "
      ]
     },
     "execution_count": 37,
     "metadata": {},
     "output_type": "execute_result"
    },
    {
     "data": {
      "image/png": "[encoded data removed]",
      "text/plain": [
       "<Figure size 1000x1000 with 2 Axes>"
      ]
     },
     "metadata": {},
     "output_type": "display_data"
    }
   ],
   "source": [
    "# draw the correlation matrix\n",
    "correlation_matrix = pd.DataFrame(X_train).corr()\n",
    "fig, ax = plt.subplots(figsize=(10,10))         # Sample figsize in inches\n",
    "sns.heatmap(correlation_matrix, ax=ax)\n",
    "correlation_matrix"
   ]
  },
  {
   "cell_type": "markdown",
   "metadata": {
    "id": "zEk6kv2txVhZ"
   },
   "source": [
    "After generating the correlation matrix, we can see that to the right side of the matrix, there are features that has a very high correlation. We usually remove such features that have high correlations because, they are some what linearly dependent with other features. These features contribute very less in predicting the output but increses the computational cost.\n",
    "\n",
    "It is clear that correlated features means that they bring the same information, so it is logical to remove one of them.\n",
    "\n",
    "In order to find the exact columns that has the high correlation values, I perform the below code. I am checking the upper triangle of the correlation matrix because the upper and lower traingles are mirrors of each other that are divided by the diagonal in the correlation matrix. Here I am checking the columns that has correlations values more than 0.6 with the hope of removing them."
   ]
  },
  {
   "cell_type": "code",
   "execution_count": 38,
   "metadata": {
    "id": "6W0lmp9Kxwxh"
   },
   "outputs": [
    {
     "name": "stdout",
     "output_type": "stream",
     "text": [
      "    0         1         2         3         4         5         6         7   \\\n",
      "0  NaN -0.079753 -0.191634  0.428829 -0.360065 -0.155211  0.059496 -0.007793   \n",
      "1  NaN       NaN  0.065606 -0.088578 -0.052624  0.012277 -0.002118 -0.001078   \n",
      "2  NaN       NaN       NaN -0.199644  0.078182  0.035908  0.001198 -0.054307   \n",
      "3  NaN       NaN       NaN       NaN -0.118595  0.011209 -0.209011  0.068372   \n",
      "4  NaN       NaN       NaN       NaN       NaN  0.011815 -0.115725 -0.065903   \n",
      "5  NaN       NaN       NaN       NaN       NaN       NaN -0.108923  0.052883   \n",
      "6  NaN       NaN       NaN       NaN       NaN       NaN       NaN -0.005432   \n",
      "7  NaN       NaN       NaN       NaN       NaN       NaN       NaN       NaN   \n",
      "8  NaN       NaN       NaN       NaN       NaN       NaN       NaN       NaN   \n",
      "9  NaN       NaN       NaN       NaN       NaN       NaN       NaN       NaN   \n",
      "10 NaN       NaN       NaN       NaN       NaN       NaN       NaN       NaN   \n",
      "11 NaN       NaN       NaN       NaN       NaN       NaN       NaN       NaN   \n",
      "\n",
      "          8         9         10        11  \n",
      "0  -0.031293  0.201842  0.232726  0.000330  \n",
      "1   0.018644 -0.039750 -0.067564 -0.002030  \n",
      "2   0.026476 -0.124634 -0.212384  0.003004  \n",
      "3  -0.044064  0.179346  0.255948 -0.001909  \n",
      "4  -0.004201 -0.065982 -0.099057 -0.004148  \n",
      "5  -0.002517 -0.088531 -0.070522  0.001068  \n",
      "6   0.000642  0.304330  0.232509 -0.000852  \n",
      "7   0.010991  0.099036  0.130524 -0.000260  \n",
      "8        NaN -0.026220 -0.023038 -0.002283  \n",
      "9        NaN       NaN  0.681338  0.001435  \n",
      "10       NaN       NaN       NaN  0.002160  \n",
      "11       NaN       NaN       NaN       NaN  \n",
      "\n",
      "To drop\n",
      "[]\n",
      "         0         1         2         3         4         5         6   \\\n",
      "0 -0.644919  1.788618 -1.073308 -0.333251 -1.161742 -0.269523 -0.765586   \n",
      "1  0.803801 -0.592295 -1.073308  0.964253  0.054921 -0.687156 -1.200232   \n",
      "2 -0.584556 -0.294680 -1.073308 -0.757035 -1.161742 -0.687156  0.758861   \n",
      "3 -0.041286 -0.592295  1.182214 -0.022756  1.271585 -0.269523  0.187830   \n",
      "4  0.079441 -0.889909  1.182214  0.007454  1.271585  2.653904 -0.310546   \n",
      "\n",
      "         7         8         9         10        11  \n",
      "0  1.176664 -0.099875 -0.439909 -0.696922  0.634867  \n",
      "1 -0.755376 -0.099875 -0.841458 -0.610499 -1.575133  \n",
      "2  0.210644 -0.099875  1.166291  0.512993  0.634867  \n",
      "3 -0.755376  1.109675  0.162416  1.463641 -1.575133  \n",
      "4  2.142684 -0.099875 -0.439909  1.722909  0.634867  \n"
     ]
    }
   ],
   "source": [
    "# getting the upper triangle of the correlation matrix\n",
    "upper_tri = correlation_matrix.where(np.triu(np.ones(correlation_matrix.shape),k=1).astype(np.bool))\n",
    "print(upper_tri)\n",
    "\n",
    "# checking which columns can be dropped\n",
    "to_drop = [column for column in upper_tri.columns if any(upper_tri[column] > 0.95)]\n",
    "print('\\nTo drop')\n",
    "print(to_drop)\n",
    "\n",
    "# removing the selected columns\n",
    "X_train = X_train.drop(X_train.columns[to_drop], axis=1)\n",
    "X_test = X_test.drop(X_test.columns[to_drop], axis=1)\n",
    "print(X_train.head())"
   ]
  },
  {
   "cell_type": "markdown",
   "metadata": {
    "id": "fuK5JFbYA3w2"
   },
   "source": [
    "However, after performing the above code, we can see that there are no columns that has more than 0.95 correlation and that therefore, there are no columns to be removed."
   ]
  },
  {
   "cell_type": "markdown",
   "metadata": {
    "id": "pHiTJyay0VI2"
   },
   "source": [
    "**Appyling PCA**\n",
    "\n",
    "Principal Component Analysis, or PCA, is a dimensionality-reduction method that is often used to reduce the dimensionality of large data sets, by transforming a large set of variables into a smaller one that still contains most of the information in the large set."
   ]
  },
  {
   "cell_type": "code",
   "execution_count": 39,
   "metadata": {
    "id": "6dgn4Hic0LUq"
   },
   "outputs": [
    {
     "data": {
      "text/html": [
       "<div>\n",
       "<style scoped>\n",
       "    .dataframe tbody tr th:only-of-type {\n",
       "        vertical-align: middle;\n",
       "    }\n",
       "\n",
       "    .dataframe tbody tr th {\n",
       "        vertical-align: top;\n",
       "    }\n",
       "\n",
       "    .dataframe thead th {\n",
       "        text-align: right;\n",
       "    }\n",
       "</style>\n",
       "<table border=\"1\" class=\"dataframe\">\n",
       "  <thead>\n",
       "    <tr style=\"text-align: right;\">\n",
       "      <th></th>\n",
       "      <th>0</th>\n",
       "      <th>1</th>\n",
       "      <th>2</th>\n",
       "      <th>3</th>\n",
       "      <th>4</th>\n",
       "      <th>5</th>\n",
       "      <th>6</th>\n",
       "      <th>7</th>\n",
       "      <th>8</th>\n",
       "      <th>9</th>\n",
       "      <th>10</th>\n",
       "      <th>11</th>\n",
       "    </tr>\n",
       "  </thead>\n",
       "  <tbody>\n",
       "    <tr>\n",
       "      <th>0</th>\n",
       "      <td>-0.644919</td>\n",
       "      <td>1.788618</td>\n",
       "      <td>-1.073308</td>\n",
       "      <td>-0.333251</td>\n",
       "      <td>-1.161742</td>\n",
       "      <td>-0.269523</td>\n",
       "      <td>-0.765586</td>\n",
       "      <td>1.176664</td>\n",
       "      <td>-0.099875</td>\n",
       "      <td>-0.439909</td>\n",
       "      <td>-0.696922</td>\n",
       "      <td>0.634867</td>\n",
       "    </tr>\n",
       "    <tr>\n",
       "      <th>1</th>\n",
       "      <td>0.803801</td>\n",
       "      <td>-0.592295</td>\n",
       "      <td>-1.073308</td>\n",
       "      <td>0.964253</td>\n",
       "      <td>0.054921</td>\n",
       "      <td>-0.687156</td>\n",
       "      <td>-1.200232</td>\n",
       "      <td>-0.755376</td>\n",
       "      <td>-0.099875</td>\n",
       "      <td>-0.841458</td>\n",
       "      <td>-0.610499</td>\n",
       "      <td>-1.575133</td>\n",
       "    </tr>\n",
       "    <tr>\n",
       "      <th>2</th>\n",
       "      <td>-0.584556</td>\n",
       "      <td>-0.294680</td>\n",
       "      <td>-1.073308</td>\n",
       "      <td>-0.757035</td>\n",
       "      <td>-1.161742</td>\n",
       "      <td>-0.687156</td>\n",
       "      <td>0.758861</td>\n",
       "      <td>0.210644</td>\n",
       "      <td>-0.099875</td>\n",
       "      <td>1.166291</td>\n",
       "      <td>0.512993</td>\n",
       "      <td>0.634867</td>\n",
       "    </tr>\n",
       "    <tr>\n",
       "      <th>3</th>\n",
       "      <td>-0.041286</td>\n",
       "      <td>-0.592295</td>\n",
       "      <td>1.182214</td>\n",
       "      <td>-0.022756</td>\n",
       "      <td>1.271585</td>\n",
       "      <td>-0.269523</td>\n",
       "      <td>0.187830</td>\n",
       "      <td>-0.755376</td>\n",
       "      <td>1.109675</td>\n",
       "      <td>0.162416</td>\n",
       "      <td>1.463641</td>\n",
       "      <td>-1.575133</td>\n",
       "    </tr>\n",
       "    <tr>\n",
       "      <th>4</th>\n",
       "      <td>0.079441</td>\n",
       "      <td>-0.889909</td>\n",
       "      <td>1.182214</td>\n",
       "      <td>0.007454</td>\n",
       "      <td>1.271585</td>\n",
       "      <td>2.653904</td>\n",
       "      <td>-0.310546</td>\n",
       "      <td>2.142684</td>\n",
       "      <td>-0.099875</td>\n",
       "      <td>-0.439909</td>\n",
       "      <td>1.722909</td>\n",
       "      <td>0.634867</td>\n",
       "    </tr>\n",
       "    <tr>\n",
       "      <th>...</th>\n",
       "      <td>...</td>\n",
       "      <td>...</td>\n",
       "      <td>...</td>\n",
       "      <td>...</td>\n",
       "      <td>...</td>\n",
       "      <td>...</td>\n",
       "      <td>...</td>\n",
       "      <td>...</td>\n",
       "      <td>...</td>\n",
       "      <td>...</td>\n",
       "      <td>...</td>\n",
       "      <td>...</td>\n",
       "    </tr>\n",
       "    <tr>\n",
       "      <th>111343</th>\n",
       "      <td>0.200168</td>\n",
       "      <td>-0.889909</td>\n",
       "      <td>-1.073308</td>\n",
       "      <td>-0.631159</td>\n",
       "      <td>-1.161742</td>\n",
       "      <td>-0.269523</td>\n",
       "      <td>0.645419</td>\n",
       "      <td>4.074723</td>\n",
       "      <td>0.034520</td>\n",
       "      <td>-0.239134</td>\n",
       "      <td>0.340148</td>\n",
       "      <td>0.634867</td>\n",
       "    </tr>\n",
       "    <tr>\n",
       "      <th>111344</th>\n",
       "      <td>1.890341</td>\n",
       "      <td>1.788618</td>\n",
       "      <td>-1.073308</td>\n",
       "      <td>-0.106674</td>\n",
       "      <td>-1.161742</td>\n",
       "      <td>-0.269523</td>\n",
       "      <td>0.971722</td>\n",
       "      <td>-0.755376</td>\n",
       "      <td>-0.099875</td>\n",
       "      <td>0.363191</td>\n",
       "      <td>-0.005542</td>\n",
       "      <td>-1.575133</td>\n",
       "    </tr>\n",
       "    <tr>\n",
       "      <th>111345</th>\n",
       "      <td>-0.128813</td>\n",
       "      <td>1.788618</td>\n",
       "      <td>1.182214</td>\n",
       "      <td>-0.834659</td>\n",
       "      <td>1.271585</td>\n",
       "      <td>-0.269523</td>\n",
       "      <td>-0.003363</td>\n",
       "      <td>0.210644</td>\n",
       "      <td>-0.099875</td>\n",
       "      <td>-0.640684</td>\n",
       "      <td>-1.301879</td>\n",
       "      <td>0.634867</td>\n",
       "    </tr>\n",
       "    <tr>\n",
       "      <th>111346</th>\n",
       "      <td>1.455725</td>\n",
       "      <td>1.491004</td>\n",
       "      <td>-1.073308</td>\n",
       "      <td>-0.001776</td>\n",
       "      <td>0.054921</td>\n",
       "      <td>-0.687156</td>\n",
       "      <td>1.595012</td>\n",
       "      <td>-0.755376</td>\n",
       "      <td>2.117633</td>\n",
       "      <td>0.563966</td>\n",
       "      <td>1.636486</td>\n",
       "      <td>0.634867</td>\n",
       "    </tr>\n",
       "    <tr>\n",
       "      <th>111347</th>\n",
       "      <td>0.007005</td>\n",
       "      <td>-0.294680</td>\n",
       "      <td>1.182214</td>\n",
       "      <td>-0.589200</td>\n",
       "      <td>-1.161742</td>\n",
       "      <td>-0.269523</td>\n",
       "      <td>0.576590</td>\n",
       "      <td>-0.755376</td>\n",
       "      <td>-0.099875</td>\n",
       "      <td>-0.038359</td>\n",
       "      <td>-0.783344</td>\n",
       "      <td>0.634867</td>\n",
       "    </tr>\n",
       "  </tbody>\n",
       "</table>\n",
       "<p>111348 rows × 12 columns</p>\n",
       "</div>"
      ],
      "text/plain": [
       "              0         1         2         3         4         5         6   \\\n",
       "0      -0.644919  1.788618 -1.073308 -0.333251 -1.161742 -0.269523 -0.765586   \n",
       "1       0.803801 -0.592295 -1.073308  0.964253  0.054921 -0.687156 -1.200232   \n",
       "2      -0.584556 -0.294680 -1.073308 -0.757035 -1.161742 -0.687156  0.758861   \n",
       "3      -0.041286 -0.592295  1.182214 -0.022756  1.271585 -0.269523  0.187830   \n",
       "4       0.079441 -0.889909  1.182214  0.007454  1.271585  2.653904 -0.310546   \n",
       "...          ...       ...       ...       ...       ...       ...       ...   \n",
       "111343  0.200168 -0.889909 -1.073308 -0.631159 -1.161742 -0.269523  0.645419   \n",
       "111344  1.890341  1.788618 -1.073308 -0.106674 -1.161742 -0.269523  0.971722   \n",
       "111345 -0.128813  1.788618  1.182214 -0.834659  1.271585 -0.269523 -0.003363   \n",
       "111346  1.455725  1.491004 -1.073308 -0.001776  0.054921 -0.687156  1.595012   \n",
       "111347  0.007005 -0.294680  1.182214 -0.589200 -1.161742 -0.269523  0.576590   \n",
       "\n",
       "              7         8         9         10        11  \n",
       "0       1.176664 -0.099875 -0.439909 -0.696922  0.634867  \n",
       "1      -0.755376 -0.099875 -0.841458 -0.610499 -1.575133  \n",
       "2       0.210644 -0.099875  1.166291  0.512993  0.634867  \n",
       "3      -0.755376  1.109675  0.162416  1.463641 -1.575133  \n",
       "4       2.142684 -0.099875 -0.439909  1.722909  0.634867  \n",
       "...          ...       ...       ...       ...       ...  \n",
       "111343  4.074723  0.034520 -0.239134  0.340148  0.634867  \n",
       "111344 -0.755376 -0.099875  0.363191 -0.005542 -1.575133  \n",
       "111345  0.210644 -0.099875 -0.640684 -1.301879  0.634867  \n",
       "111346 -0.755376  2.117633  0.563966  1.636486  0.634867  \n",
       "111347 -0.755376 -0.099875 -0.038359 -0.783344  0.634867  \n",
       "\n",
       "[111348 rows x 12 columns]"
      ]
     },
     "execution_count": 39,
     "metadata": {},
     "output_type": "execute_result"
    }
   ],
   "source": [
    "from sklearn.decomposition import PCA\n",
    "\n",
    "# apply the PCA for feature for feature reduction\n",
    "pca = PCA(n_components=0.95)\n",
    "pca.fit(X_train)\n",
    "PCA_X_train = pca.transform(X_train)\n",
    "PCA_X_test = pca.transform(X_test)\n",
    "\n",
    "X_train"
   ]
  },
  {
   "cell_type": "markdown",
   "metadata": {
    "id": "NHVCrU8B_31u"
   },
   "source": [
    "Here, I have not manually set the n_components of the PCA model. We want the explained variance to be between 95–99%. Therefore, i have set the PCA's n_components to 0.95"
   ]
  },
  {
   "cell_type": "markdown",
   "metadata": {
    "id": "wXoLDxmY0tTt"
   },
   "source": [
    "## **Developing the MultiLayer Perceptron Model**"
   ]
  },
  {
   "cell_type": "markdown",
   "metadata": {
    "id": "0BuvqVgj9fYv"
   },
   "source": [
    "### **MLPRegressor**"
   ]
  },
  {
   "cell_type": "code",
   "execution_count": 40,
   "metadata": {
    "id": "GmZfaXhW9exU"
   },
   "outputs": [
    {
     "data": {
      "text/html": [
       "<style>#sk-container-id-1 {color: black;background-color: white;}#sk-container-id-1 pre{padding: 0;}#sk-container-id-1 div.sk-toggleable {background-color: white;}#sk-container-id-1 label.sk-toggleable__label {cursor: pointer;display: block;width: 100%;margin-bottom: 0;padding: 0.3em;box-sizing: border-box;text-align: center;}#sk-container-id-1 label.sk-toggleable__label-arrow:before {content: \"▸\";float: left;margin-right: 0.25em;color: #696969;}#sk-container-id-1 label.sk-toggleable__label-arrow:hover:before {color: black;}#sk-container-id-1 div.sk-estimator:hover label.sk-toggleable__label-arrow:before {color: black;}#sk-container-id-1 div.sk-toggleable__content {max-height: 0;max-width: 0;overflow: hidden;text-align: left;background-color: #f0f8ff;}#sk-container-id-1 div.sk-toggleable__content pre {margin: 0.2em;color: black;border-radius: 0.25em;background-color: #f0f8ff;}#sk-container-id-1 input.sk-toggleable__control:checked~div.sk-toggleable__content {max-height: 200px;max-width: 100%;overflow: auto;}#sk-container-id-1 input.sk-toggleable__control:checked~label.sk-toggleable__label-arrow:before {content: \"▾\";}#sk-container-id-1 div.sk-estimator input.sk-toggleable__control:checked~label.sk-toggleable__label {background-color: #d4ebff;}#sk-container-id-1 div.sk-label input.sk-toggleable__control:checked~label.sk-toggleable__label {background-color: #d4ebff;}#sk-container-id-1 input.sk-hidden--visually {border: 0;clip: rect(1px 1px 1px 1px);clip: rect(1px, 1px, 1px, 1px);height: 1px;margin: -1px;overflow: hidden;padding: 0;position: absolute;width: 1px;}#sk-container-id-1 div.sk-estimator {font-family: monospace;background-color: #f0f8ff;border: 1px dotted black;border-radius: 0.25em;box-sizing: border-box;margin-bottom: 0.5em;}#sk-container-id-1 div.sk-estimator:hover {background-color: #d4ebff;}#sk-container-id-1 div.sk-parallel-item::after {content: \"\";width: 100%;border-bottom: 1px solid gray;flex-grow: 1;}#sk-container-id-1 div.sk-label:hover label.sk-toggleable__label {background-color: #d4ebff;}#sk-container-id-1 div.sk-serial::before {content: \"\";position: absolute;border-left: 1px solid gray;box-sizing: border-box;top: 0;bottom: 0;left: 50%;z-index: 0;}#sk-container-id-1 div.sk-serial {display: flex;flex-direction: column;align-items: center;background-color: white;padding-right: 0.2em;padding-left: 0.2em;position: relative;}#sk-container-id-1 div.sk-item {position: relative;z-index: 1;}#sk-container-id-1 div.sk-parallel {display: flex;align-items: stretch;justify-content: center;background-color: white;position: relative;}#sk-container-id-1 div.sk-item::before, #sk-container-id-1 div.sk-parallel-item::before {content: \"\";position: absolute;border-left: 1px solid gray;box-sizing: border-box;top: 0;bottom: 0;left: 50%;z-index: -1;}#sk-container-id-1 div.sk-parallel-item {display: flex;flex-direction: column;z-index: 1;position: relative;background-color: white;}#sk-container-id-1 div.sk-parallel-item:first-child::after {align-self: flex-end;width: 50%;}#sk-container-id-1 div.sk-parallel-item:last-child::after {align-self: flex-start;width: 50%;}#sk-container-id-1 div.sk-parallel-item:only-child::after {width: 0;}#sk-container-id-1 div.sk-dashed-wrapped {border: 1px dashed gray;margin: 0 0.4em 0.5em 0.4em;box-sizing: border-box;padding-bottom: 0.4em;background-color: white;}#sk-container-id-1 div.sk-label label {font-family: monospace;font-weight: bold;display: inline-block;line-height: 1.2em;}#sk-container-id-1 div.sk-label-container {text-align: center;}#sk-container-id-1 div.sk-container {/* jupyter's `normalize.less` sets `[hidden] { display: none; }` but bootstrap.min.css set `[hidden] { display: none !important; }` so we also need the `!important` here to be able to override the default hidden behavior on the sphinx rendered scikit-learn.org. See: https://github.com/scikit-learn/scikit-learn/issues/21755 */display: inline-block !important;position: relative;}#sk-container-id-1 div.sk-text-repr-fallback {display: none;}</style><div id=\"sk-container-id-1\" class=\"sk-top-container\"><div class=\"sk-text-repr-fallback\"><pre>MLPRegressor(activation=&#x27;logistic&#x27;)</pre><b>In a Jupyter environment, please rerun this cell to show the HTML representation or trust the notebook. <br />On GitHub, the HTML representation is unable to render, please try loading this page with nbviewer.org.</b></div><div class=\"sk-container\" hidden><div class=\"sk-item\"><div class=\"sk-estimator sk-toggleable\"><input class=\"sk-toggleable__control sk-hidden--visually\" id=\"sk-estimator-id-1\" type=\"checkbox\" checked><label for=\"sk-estimator-id-1\" class=\"sk-toggleable__label sk-toggleable__label-arrow\">MLPRegressor</label><div class=\"sk-toggleable__content\"><pre>MLPRegressor(activation=&#x27;logistic&#x27;)</pre></div></div></div></div></div>"
      ],
      "text/plain": [
       "MLPRegressor(activation='logistic')"
      ]
     },
     "execution_count": 40,
     "metadata": {},
     "output_type": "execute_result"
    }
   ],
   "source": [
    "from sklearn.neural_network import MLPRegressor\n",
    "from sklearn.metrics import mean_squared_error\n",
    "mlp = MLPRegressor(activation='logistic')\n",
    "mlp.fit(PCA_X_train,y_train)"
   ]
  },
  {
   "cell_type": "code",
   "execution_count": 41,
   "metadata": {
    "id": "CfB6XhKS994S"
   },
   "outputs": [
    {
     "name": "stdout",
     "output_type": "stream",
     "text": [
      "mse_test : 0.4386506924593116 mse_train : 0.4332238767780544\n"
     ]
    }
   ],
   "source": [
    "predictions = mlp.predict(PCA_X_test)\n",
    "predictions1= mlp.predict(PCA_X_train)\n",
    "print(\"mse_test :\" ,mean_squared_error(y_test,predictions), \"mse_train :\",mean_squared_error(y_train,predictions1))"
   ]
  }
 ],
 "metadata": {
  "colab": {
   "private_outputs": true,
   "provenance": [],
   "toc_visible": true
  },
  "kernelspec": {
   "display_name": "Python 3 (ipykernel)",
   "language": "python",
   "name": "python3"
  },
  "language_info": {
   "codemirror_mode": {
    "name": "ipython",
    "version": 3
   },
   "file_extension": ".py",
   "mimetype": "text/x-python",
   "name": "python",
   "nbconvert_exporter": "python",
   "pygments_lexer": "ipython3",
   "version": "3.10.9"
  }
 },
 "nbformat": 4,
 "nbformat_minor": 1
}
